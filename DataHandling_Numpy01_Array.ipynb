{
  "nbformat": 4,
  "nbformat_minor": 0,
  "metadata": {
    "colab": {
      "name": "DataHandling_Numpy01_Array.ipynb",
      "provenance": [],
      "include_colab_link": true
    },
    "kernelspec": {
      "name": "python3",
      "display_name": "Python 3"
    },
    "language_info": {
      "name": "python"
    }
  },
  "cells": [
    {
      "cell_type": "markdown",
      "metadata": {
        "id": "view-in-github",
        "colab_type": "text"
      },
      "source": [
        "<a href=\"https://colab.research.google.com/github/Daniel-de-Jesus/Especialization/blob/main/DataHandling_Numpy01_Array.ipynb\" target=\"_parent\"><img src=\"https://colab.research.google.com/assets/colab-badge.svg\" alt=\"Open In Colab\"/></a>"
      ]
    },
    {
      "cell_type": "markdown",
      "source": [
        "#Cáculo Vetorial com numpy\n",
        "\n",
        "###A princípio , não faz sentido se criar uma entidade de represetação vetorial no python uma vez que isso é um objeto build-in da linguagem.\n",
        "\n",
        "###Vamos representá-los pelos array de numpy e verficar os respectivos ganhos posteriormente.\n"
      ],
      "metadata": {
        "id": "XhX6C_DSuAdx"
      }
    },
    {
      "cell_type": "code",
      "execution_count": null,
      "metadata": {
        "id": "e-WKHjratrsq"
      },
      "outputs": [],
      "source": [
        "#importando a biblioteca Numpy\n",
        "\n",
        "import numpy as np"
      ]
    },
    {
      "cell_type": "code",
      "source": [
        "#vamos criar a lista e utilizar a funcao do numpy para criar a variavel vetorial\n",
        "\n",
        "lista1 = [i for i in range(10)]\n",
        "\n",
        "vetor1 =np.array(lista1)\n",
        "\n",
        "print(f'O primeiro vetor é: {vetor1}')\n",
        "print(f'O segundo vetor é: {vetor2}')"
      ],
      "metadata": {
        "colab": {
          "base_uri": "https://localhost:8080/"
        },
        "id": "mVyxFrnot2kS",
        "outputId": "9d9431da-e088-4ebc-c8bc-cc5d14160946"
      },
      "execution_count": null,
      "outputs": [
        {
          "output_type": "stream",
          "name": "stdout",
          "text": [
            "O primeiro vetor é: [0 1 2 3 4 5 6 7 8 9]\n",
            "O segundo vetor é: [[10]\n",
            " [20]\n",
            " [30]\n",
            " [40]\n",
            " [50]]\n"
          ]
        }
      ]
    },
    {
      "cell_type": "markdown",
      "source": [
        "###A representação do vetor coluna é um tanto 'interessante' do ponto de vista físico, é uma lista de listas de um elemente\n"
      ],
      "metadata": {
        "id": "m-KqI-cWxUPx"
      }
    },
    {
      "cell_type": "code",
      "source": [
        "lista2=[[10], [20], [30],[40],[50]]\n",
        "vetor2= np.array(lista2)\n",
        "vetor2"
      ],
      "metadata": {
        "colab": {
          "base_uri": "https://localhost:8080/"
        },
        "id": "BbtrMPEZwAXC",
        "outputId": "8b8e3087-978d-489f-9059-8e9aa2976774"
      },
      "execution_count": null,
      "outputs": [
        {
          "output_type": "execute_result",
          "data": {
            "text/plain": [
              "array([[10],\n",
              "       [20],\n",
              "       [30],\n",
              "       [40],\n",
              "       [50]])"
            ]
          },
          "metadata": {},
          "execution_count": 16
        }
      ]
    },
    {
      "cell_type": "markdown",
      "source": [
        "###As operações comuns de multiplicação e divisão não existem, enquanto que soma e subtração são interpretadas como operação termo a termo.\n",
        "    A = [1, 2, 3]\n",
        "    B = [10, 20, 30]\n",
        "    multiplicação :\n",
        "      A*B = [10, 40, 90]\n",
        "    divisão:\n",
        "      B/A = [10, 10, 10]\n",
        "    soma:\n",
        "      A+B= [11, 22, 33]\n",
        "    subtração:\n",
        "      B-A = [9, 18, 27]"
      ],
      "metadata": {
        "id": "q1rzG6lc2T8Y"
      }
    },
    {
      "cell_type": "code",
      "source": [
        "#Operações padrao\n",
        "\n",
        "subt= vetor3-vetor4\n",
        "soma= vetor3+vetor4\n",
        "print(f'A soma é: {soma}')\n",
        "print(f'A subtração  é:{subt}')"
      ],
      "metadata": {
        "colab": {
          "base_uri": "https://localhost:8080/"
        },
        "id": "iGHHnDrS0Fvy",
        "outputId": "fd93b2fe-dc26-4c56-f195-a36e276382c2"
      },
      "execution_count": null,
      "outputs": [
        {
          "output_type": "stream",
          "name": "stdout",
          "text": [
            "A soma é: [5 7 9]\n",
            "A subtração  é:[-5 -5 -5]\n"
          ]
        }
      ]
    },
    {
      "cell_type": "markdown",
      "source": [
        "##Operações vetoriais:\n",
        "\n",
        "    O produto escalar ou interno é obtido com o uso do objeto vetorA.dot(vetorB)"
      ],
      "metadata": {
        "id": "B7QR7lNey77B"
      }
    },
    {
      "cell_type": "code",
      "source": [
        "#definir vetores tridimensionais para operações\n",
        "\n",
        "lista3= [i+5 for i in range(3)]\n",
        "lista4= [i for i in range(3)]\n",
        "vetor4=np.array(lista3)\n",
        "vetor3=np.array(lista4)"
      ],
      "metadata": {
        "id": "RKDSISrHx4zB"
      },
      "execution_count": null,
      "outputs": []
    },
    {
      "cell_type": "code",
      "source": [
        "#produto escalar\n",
        "\n",
        "dot3_4= vetor3.dot(vetor4)\n",
        "multi=[lista3[i]*lista4[i] for i in range(len(lista3))]\n",
        "\n",
        "print(f'O produto escalar com a função dot é: {dot3_4}')\n",
        "print(f'O produto escalar com a soma direta é:{sum(multi)}')"
      ],
      "metadata": {
        "colab": {
          "base_uri": "https://localhost:8080/"
        },
        "id": "RC5lx37szgOD",
        "outputId": "813b90e5-13e0-4fa3-ba9e-f8419b94d32d"
      },
      "execution_count": null,
      "outputs": [
        {
          "output_type": "stream",
          "name": "stdout",
          "text": [
            "O produto escalar com a função dot é: 20\n",
            "O produto escalar com a soma direta é:20\n"
          ]
        }
      ]
    },
    {
      "cell_type": "markdown",
      "source": [
        "    O produto vetorial é obtido se utilizando o objeto cross do numpy np.cross(vetorA, vetorB)"
      ],
      "metadata": {
        "id": "J71XqmI46BHo"
      }
    },
    {
      "cell_type": "code",
      "source": [
        "print(f'O produto vetorial dos vetores {vetor3} e {vetor4} é: {np.cross(vetor3,vetor4)}')"
      ],
      "metadata": {
        "colab": {
          "base_uri": "https://localhost:8080/"
        },
        "id": "r22dytq94edw",
        "outputId": "e8a793b0-04d3-49d8-c043-84f42e7ce54f"
      },
      "execution_count": null,
      "outputs": [
        {
          "output_type": "stream",
          "name": "stdout",
          "text": [
            "O produto vetorial dos vetores [0 1 2] e [5 6 7] é: [-5 10 -5]\n"
          ]
        }
      ]
    },
    {
      "cell_type": "code",
      "source": [
        "escalar = 10\n",
        "multiplicação_por_escalar = vetor3 * escalar\n",
        "\n",
        "\n",
        "import matplotlib.pyplot as plt\n",
        "\n",
        "#apenas rotula a origem do sistema\n",
        "\n",
        "origin= [0],[0]\n",
        "\n",
        "#mostrar grades\n",
        "\n",
        "plt.grid()\n",
        "\n",
        "plt.ticklabel_format(style = 'sci', axis= 'both',\n",
        "                     scilimits =(0,0))\n",
        "plt.quiver(*origin,  *vetor3, scale = 50)\n",
        "plt.quiver(*origin, *multiplicação_por_escalar, scale = 50)\n",
        "plt.show()"
      ],
      "metadata": {
        "colab": {
          "base_uri": "https://localhost:8080/",
          "height": 289
        },
        "id": "euHra1S-69hQ",
        "outputId": "81bc77f5-5ed8-4cd6-e912-61807a09716b"
      },
      "execution_count": null,
      "outputs": [
        {
          "output_type": "display_data",
          "data": {
            "text/plain": [
              "<Figure size 432x288 with 1 Axes>"
            ],
            "image/png": "[encoded data removed]"
          },
          "metadata": {
            "needs_background": "light"
          }
        }
      ]
    },
    {
      "cell_type": "code",
      "source": [
        ""
      ],
      "metadata": {
        "id": "IM3arHUY8LQo"
      },
      "execution_count": null,
      "outputs": []
    }
  ]
}