{
  "nbformat": 4,
  "nbformat_minor": 0,
  "metadata": {
    "colab": {
      "name": "SimpleLinearML.ipynb",
      "provenance": [],
      "authorship_tag": "ABX9TyM7oMxBCfWIz+nsGfzLo1Iz",
      "include_colab_link": true
    },
    "kernelspec": {
      "name": "python3",
      "display_name": "Python 3"
    },
    "language_info": {
      "name": "python"
    }
  },
  "cells": [
    {
      "cell_type": "markdown",
      "metadata": {
        "id": "view-in-github",
        "colab_type": "text"
      },
      "source": [
        "<a href=\"https://colab.research.google.com/github/Daniel-de-Jesus/Especialization/blob/main/Statistics_SimpleLinearML.ipynb\" target=\"_parent\"><img src=\"https://colab.research.google.com/assets/colab-badge.svg\" alt=\"Open In Colab\"/></a>"
      ]
    },
    {
      "cell_type": "markdown",
      "source": [
        "Linear Regressor"
      ],
      "metadata": {
        "id": "F1uy5lSzkhp8"
      }
    },
    {
      "cell_type": "code",
      "execution_count": 1,
      "metadata": {
        "id": "yuFk7h4ukYWM"
      },
      "outputs": [],
      "source": [
        "import numpy as np\n",
        "import pandas as pd\n",
        "import matplotlib.pyplot as plt\n",
        "import seaborn as sns"
      ]
    },
    {
      "cell_type": "code",
      "source": [
        "df= pd.read_csv(\"Salary_Data.csv\")\n",
        "#df.head()\n",
        "df.columns=[\"Experience\", \"Salary\"]\n",
        "#creating a dataframe of independent variable\n",
        "X= df[['Experience']]\n",
        "#dataframe of dependent variables\n",
        "y= df[\"Salary\"]\n",
        "\n",
        "\n",
        "#we can convert the dataframe columns to a numpy array like\n",
        "#It better suits to ML porposes\n",
        "\n",
        "X_npy= X.values\n",
        "y_npy= y.values"
      ],
      "metadata": {
        "id": "Mnufo-7Lku3z"
      },
      "execution_count": 15,
      "outputs": []
    },
    {
      "cell_type": "markdown",
      "source": [
        "This is a important step in the statistical protocols usage to split the sample in test and train samples. It can be done throught the sklearn tool"
      ],
      "metadata": {
        "id": "ZKWaL3Ysmag_"
      }
    },
    {
      "cell_type": "code",
      "source": [
        "from sklearn.model_selection import train_test_split\n",
        "X_train, X_test, y_train, y_test = train_test_split(X, y, test_size= 0.2, random_state=42)"
      ],
      "metadata": {
        "id": "LanJ9AXhl4Cz"
      },
      "execution_count": 18,
      "outputs": []
    },
    {
      "cell_type": "code",
      "source": [
        "#we may check the sets created\n",
        "#train set\n",
        "print(f'X_train.shape= {X_train.shape}')\n",
        "print(f'y_train.shape= {y_train.shape}')\n",
        "#test set\n",
        "print(f'X_test.shape= {X_test.shape}')\n",
        "print(f'y_test.shape= {y_test.shape}')"
      ],
      "metadata": {
        "colab": {
          "base_uri": "https://localhost:8080/"
        },
        "id": "k91CU9PimvwG",
        "outputId": "dde57cb2-8150-4b0a-98a4-90d74ade1409"
      },
      "execution_count": 21,
      "outputs": [
        {
          "output_type": "stream",
          "name": "stdout",
          "text": [
            "X_train.shape= (24, 1)\n",
            "y_train.shape= (24,)\n",
            "X_test.shape= (6, 1)\n",
            "y_test.shape= (6,)\n"
          ]
        }
      ]
    },
    {
      "cell_type": "markdown",
      "source": [
        "##Finaly, training the Simple Linear Regression Model"
      ],
      "metadata": {
        "id": "3LdI1LzInmMn"
      }
    },
    {
      "cell_type": "code",
      "source": [
        "from sklearn.linear_model import LinearRegression\n",
        "\n",
        "#creating the object\n",
        "\n",
        "reg = LinearRegression()"
      ],
      "metadata": {
        "id": "FRm1L-VMniWe"
      },
      "execution_count": 23,
      "outputs": []
    },
    {
      "cell_type": "code",
      "source": [
        "#training with training set\n",
        "reg.fit(X_train, y_train)"
      ],
      "metadata": {
        "colab": {
          "base_uri": "https://localhost:8080/"
        },
        "id": "Jk-ROLatoWG_",
        "outputId": "cfcaa25d-09f6-4d8c-ff34-ec7d2b75c41d"
      },
      "execution_count": 24,
      "outputs": [
        {
          "output_type": "execute_result",
          "data": {
            "text/plain": [
              "LinearRegression()"
            ]
          },
          "metadata": {},
          "execution_count": 24
        }
      ]
    },
    {
      "cell_type": "markdown",
      "source": [
        "we can extract from the reg the linear coeficiente or intercep and, the slope.\n",
        "\n",
        "reg.intercept_ $→$ linear coeficient\n",
        "\n",
        "reg.coef_ $→$ slope"
      ],
      "metadata": {
        "id": "7O0FC_X3nmTb"
      }
    },
    {
      "cell_type": "code",
      "source": [
        "reg.coef_"
      ],
      "metadata": {
        "colab": {
          "base_uri": "https://localhost:8080/"
        },
        "id": "VIte2QzGpHzr",
        "outputId": "5b31925b-9608-4d76-828d-a9d1c47b1f87"
      },
      "execution_count": 25,
      "outputs": [
        {
          "output_type": "execute_result",
          "data": {
            "text/plain": [
              "array([9423.81532303])"
            ]
          },
          "metadata": {},
          "execution_count": 25
        }
      ]
    },
    {
      "cell_type": "code",
      "source": [
        "reg.intercept_"
      ],
      "metadata": {
        "colab": {
          "base_uri": "https://localhost:8080/"
        },
        "id": "XzFq7xjtpUM3",
        "outputId": "7b0f76be-20bd-462b-8e17-c4852d21a74d"
      },
      "execution_count": 26,
      "outputs": [
        {
          "output_type": "execute_result",
          "data": {
            "text/plain": [
              "25321.583011776813"
            ]
          },
          "metadata": {},
          "execution_count": 26
        }
      ]
    },
    {
      "cell_type": "markdown",
      "source": [
        "We now can write the model of linear regression of data as:\n",
        "$h(x) = reg*intercept_ + reg.coef_*x$"
      ],
      "metadata": {
        "id": "vdm0T2DEpexI"
      }
    },
    {
      "cell_type": "code",
      "source": [
        ""
      ],
      "metadata": {
        "id": "7Yc2WtcYpYl2"
      },
      "execution_count": null,
      "outputs": []
    },
    {
      "cell_type": "markdown",
      "source": [
        "Coefficient of determination (R²) of the linear model estimated with the Training Set\n",
        "The coefficient of determination (R²) is a summary measure that tells you how well the regression line fits the data.\n",
        "The coefficient of determination (R²) measures how well a statistical model predicts an outcome. The outcome is represented by the model’s dependent variable.\n",
        "It is a value (generally) between 0 and 1.\n",
        "\n",
        "It represents the proportion of total variability of the -value that is accounted for by the independent variable .\n",
        "\n",
        "Eg R² = 0.8234 means that the linear model explains 82.34% of the variance of the dependent variable from the regressors (independent variables) included in that linear model.\n",
        "\n",
        "Broadly speaking:\n",
        "\n",
        "Coefficient of determination (R²)\tInterpretation\n",
        "0\tThe model does not predict the outcome.\n",
        "Between 0 and 1\tThe model partially predicts the outcome.\n",
        "1\tThe model perfectly predicts the outcome.\n"
      ],
      "metadata": {
        "id": "U2SAfNtJqHUX"
      }
    },
    {
      "cell_type": "code",
      "source": [
        "print(f'R² = {reg.score(X_train, y_train)}')"
      ],
      "metadata": {
        "colab": {
          "base_uri": "https://localhost:8080/"
        },
        "id": "vmUDS6vIqMM-",
        "outputId": "ed6de2ab-f4e6-45fe-8d5f-9d710972d970"
      },
      "execution_count": 27,
      "outputs": [
        {
          "output_type": "stream",
          "name": "stdout",
          "text": [
            "R² = 0.9645401573418146\n"
          ]
        }
      ]
    },
    {
      "cell_type": "markdown",
      "source": [
        "Salary Prediction"
      ],
      "metadata": {
        "id": "Re6cTxBFqnnL"
      }
    },
    {
      "cell_type": "code",
      "source": [
        "y_pred = reg.predict(X_test)\n",
        "#numpy array like\n",
        "y_pred"
      ],
      "metadata": {
        "colab": {
          "base_uri": "https://localhost:8080/"
        },
        "id": "6K51sVwtqeYO",
        "outputId": "819dedea-e2b6-4bdb-d4dc-ec5cfabd7319"
      },
      "execution_count": 30,
      "outputs": [
        {
          "output_type": "execute_result",
          "data": {
            "text/plain": [
              "array([115790.21011287,  71498.27809463, 102596.86866063,  75267.80422384,\n",
              "        55477.79204548,  60189.69970699])"
            ]
          },
          "metadata": {},
          "execution_count": 30
        }
      ]
    },
    {
      "cell_type": "code",
      "source": [
        "results = pd.DataFrame({\n",
        "    'Experience (Years)': X_test['Experience'],\n",
        "    'Salary (Prediction)': y_pred.round(2),\n",
        "    'Salary (True)': y_test.round(2),\n",
        "    'Erro (Residual)': (y_test - y_pred).round(2),\n",
        "    'Erro (Absolute)': abs(y_test - y_pred).round(2),\n",
        "})\n",
        "\n",
        "results"
      ],
      "metadata": {
        "colab": {
          "base_uri": "https://localhost:8080/",
          "height": 299
        },
        "id": "jjZe9zH3qzs-",
        "outputId": "394603b1-8df8-4ff4-a7ce-0d9a1233bc75"
      },
      "execution_count": 31,
      "outputs": [
        {
          "output_type": "execute_result",
          "data": {
            "text/plain": [
              "    Experience (Years)  Salary (Prediction)  Salary (True)  Erro (Residual)  \\\n",
              "27                 9.6            115790.21       112635.0         -3155.21   \n",
              "15                 4.9             71498.28        67938.0         -3560.28   \n",
              "23                 8.2            102596.87       113812.0         11215.13   \n",
              "17                 5.3             75267.80        83088.0          7820.20   \n",
              "8                  3.2             55477.79        64445.0          8967.21   \n",
              "9                  3.7             60189.70        57189.0         -3000.70   \n",
              "\n",
              "    Erro (Absolute)  \n",
              "27          3155.21  \n",
              "15          3560.28  \n",
              "23         11215.13  \n",
              "17          7820.20  \n",
              "8           8967.21  \n",
              "9           3000.70  "
            ],
            "text/html": [
              "\n",
              "  <div id=\"df-ab4021cc-6681-4ee8-b30c-751b74463781\">\n",
              "    <div class=\"colab-df-container\">\n",
              "      <div>\n",
              "<style scoped>\n",
              "    .dataframe tbody tr th:only-of-type {\n",
              "        vertical-align: middle;\n",
              "    }\n",
              "\n",
              "    .dataframe tbody tr th {\n",
              "        vertical-align: top;\n",
              "    }\n",
              "\n",
              "    .dataframe thead th {\n",
              "        text-align: right;\n",
              "    }\n",
              "</style>\n",
              "<table border=\"1\" class=\"dataframe\">\n",
              "  <thead>\n",
              "    <tr style=\"text-align: right;\">\n",
              "      <th></th>\n",
              "      <th>Experience (Years)</th>\n",
              "      <th>Salary (Prediction)</th>\n",
              "      <th>Salary (True)</th>\n",
              "      <th>Erro (Residual)</th>\n",
              "      <th>Erro (Absolute)</th>\n",
              "    </tr>\n",
              "  </thead>\n",
              "  <tbody>\n",
              "    <tr>\n",
              "      <th>27</th>\n",
              "      <td>9.6</td>\n",
              "      <td>115790.21</td>\n",
              "      <td>112635.0</td>\n",
              "      <td>-3155.21</td>\n",
              "      <td>3155.21</td>\n",
              "    </tr>\n",
              "    <tr>\n",
              "      <th>15</th>\n",
              "      <td>4.9</td>\n",
              "      <td>71498.28</td>\n",
              "      <td>67938.0</td>\n",
              "      <td>-3560.28</td>\n",
              "      <td>3560.28</td>\n",
              "    </tr>\n",
              "    <tr>\n",
              "      <th>23</th>\n",
              "      <td>8.2</td>\n",
              "      <td>102596.87</td>\n",
              "      <td>113812.0</td>\n",
              "      <td>11215.13</td>\n",
              "      <td>11215.13</td>\n",
              "    </tr>\n",
              "    <tr>\n",
              "      <th>17</th>\n",
              "      <td>5.3</td>\n",
              "      <td>75267.80</td>\n",
              "      <td>83088.0</td>\n",
              "      <td>7820.20</td>\n",
              "      <td>7820.20</td>\n",
              "    </tr>\n",
              "    <tr>\n",
              "      <th>8</th>\n",
              "      <td>3.2</td>\n",
              "      <td>55477.79</td>\n",
              "      <td>64445.0</td>\n",
              "      <td>8967.21</td>\n",
              "      <td>8967.21</td>\n",
              "    </tr>\n",
              "    <tr>\n",
              "      <th>9</th>\n",
              "      <td>3.7</td>\n",
              "      <td>60189.70</td>\n",
              "      <td>57189.0</td>\n",
              "      <td>-3000.70</td>\n",
              "      <td>3000.70</td>\n",
              "    </tr>\n",
              "  </tbody>\n",
              "</table>\n",
              "</div>\n",
              "      <button class=\"colab-df-convert\" onclick=\"convertToInteractive('df-ab4021cc-6681-4ee8-b30c-751b74463781')\"\n",
              "              title=\"Convert this dataframe to an interactive table.\"\n",
              "              style=\"display:none;\">\n",
              "        \n",
              "  <svg xmlns=\"http://www.w3.org/2000/svg\" height=\"24px\"viewBox=\"0 0 24 24\"\n",
              "       width=\"24px\">\n",
              "    <path d=\"M0 0h24v24H0V0z\" fill=\"none\"/>\n",
              "    <path d=\"M18.56 5.44l.94 2.06.94-2.06 2.06-.94-2.06-.94-.94-2.06-.94 2.06-2.06.94zm-11 1L8.5 8.5l.94-2.06 2.06-.94-2.06-.94L8.5 2.5l-.94 2.06-2.06.94zm10 10l.94 2.06.94-2.06 2.06-.94-2.06-.94-.94-2.06-.94 2.06-2.06.94z\"/><path d=\"M17.41 7.96l-1.37-1.37c-.4-.4-.92-.59-1.43-.59-.52 0-1.04.2-1.43.59L10.3 9.45l-7.72 7.72c-.78.78-.78 2.05 0 2.83L4 21.41c.39.39.9.59 1.41.59.51 0 1.02-.2 1.41-.59l7.78-7.78 2.81-2.81c.8-.78.8-2.07 0-2.86zM5.41 20L4 18.59l7.72-7.72 1.47 1.35L5.41 20z\"/>\n",
              "  </svg>\n",
              "      </button>\n",
              "      \n",
              "  <style>\n",
              "    .colab-df-container {\n",
              "      display:flex;\n",
              "      flex-wrap:wrap;\n",
              "      gap: 12px;\n",
              "    }\n",
              "\n",
              "    .colab-df-convert {\n",
              "      background-color: #E8F0FE;\n",
              "      border: none;\n",
              "      border-radius: 50%;\n",
              "      cursor: pointer;\n",
              "      display: none;\n",
              "      fill: #1967D2;\n",
              "      height: 32px;\n",
              "      padding: 0 0 0 0;\n",
              "      width: 32px;\n",
              "    }\n",
              "\n",
              "    .colab-df-convert:hover {\n",
              "      background-color: #E2EBFA;\n",
              "      box-shadow: 0px 1px 2px rgba(60, 64, 67, 0.3), 0px 1px 3px 1px rgba(60, 64, 67, 0.15);\n",
              "      fill: #174EA6;\n",
              "    }\n",
              "\n",
              "    [theme=dark] .colab-df-convert {\n",
              "      background-color: #3B4455;\n",
              "      fill: #D2E3FC;\n",
              "    }\n",
              "\n",
              "    [theme=dark] .colab-df-convert:hover {\n",
              "      background-color: #434B5C;\n",
              "      box-shadow: 0px 1px 3px 1px rgba(0, 0, 0, 0.15);\n",
              "      filter: drop-shadow(0px 1px 2px rgba(0, 0, 0, 0.3));\n",
              "      fill: #FFFFFF;\n",
              "    }\n",
              "  </style>\n",
              "\n",
              "      <script>\n",
              "        const buttonEl =\n",
              "          document.querySelector('#df-ab4021cc-6681-4ee8-b30c-751b74463781 button.colab-df-convert');\n",
              "        buttonEl.style.display =\n",
              "          google.colab.kernel.accessAllowed ? 'block' : 'none';\n",
              "\n",
              "        async function convertToInteractive(key) {\n",
              "          const element = document.querySelector('#df-ab4021cc-6681-4ee8-b30c-751b74463781');\n",
              "          const dataTable =\n",
              "            await google.colab.kernel.invokeFunction('convertToInteractive',\n",
              "                                                     [key], {});\n",
              "          if (!dataTable) return;\n",
              "\n",
              "          const docLinkHtml = 'Like what you see? Visit the ' +\n",
              "            '<a target=\"_blank\" href=https://colab.research.google.com/notebooks/data_table.ipynb>data table notebook</a>'\n",
              "            + ' to learn more about interactive tables.';\n",
              "          element.innerHTML = '';\n",
              "          dataTable['output_type'] = 'display_data';\n",
              "          await google.colab.output.renderOutput(dataTable, element);\n",
              "          const docLink = document.createElement('div');\n",
              "          docLink.innerHTML = docLinkHtml;\n",
              "          element.appendChild(docLink);\n",
              "        }\n",
              "      </script>\n",
              "    </div>\n",
              "  </div>\n",
              "  "
            ]
          },
          "metadata": {},
          "execution_count": 31
        }
      ]
    },
    {
      "cell_type": "markdown",
      "source": [
        "Creating the set in same interval of the  problem's set"
      ],
      "metadata": {
        "id": "ZAo258_qrUGc"
      }
    },
    {
      "cell_type": "code",
      "source": [
        "regression_line_x = X['Experience']\n",
        "#regression from all data with the model\n",
        "regression_line_y = reg.predict(X)"
      ],
      "metadata": {
        "id": "eEzAfJRwrFU-"
      },
      "execution_count": 32,
      "outputs": []
    },
    {
      "cell_type": "code",
      "source": [
        "fig, axs = plt.subplots(1, 2, figsize=(20, 6), sharex=True, sharey=True)\n",
        "\n",
        "regression_line_x = X['Experience']\n",
        "regression_line_y = reg.predict(X)\n",
        "\n",
        "sns.scatterplot(x=X_train['Experience'], y=y_train, ax=axs[0])\n",
        "sns.lineplot(x=regression_line_x, y=regression_line_y, color=\"red\", ax=axs[0])\n",
        "axs[0].set_title('Annual Salary vs Years of Experience (Training Set)')\n",
        "axs[0].set_xlabel('Experience (Years)')\n",
        "axs[0].set_ylabel('Salary ($)')\n",
        "\n",
        "sns.scatterplot(x=X_test['Experience'], y=y_test, color=\"green\", marker='*', s=200, ax=axs[1])\n",
        "sns.lineplot(x=regression_line_x, y=regression_line_y, color=\"red\", ax=axs[1])\n",
        "axs[1].set_title('Annual Salary vs Years of Experience (Testing Set)')\n",
        "axs[1].set_xlabel('Experience (Years)')\n",
        "axs[1].set_ylabel('Salary ($)')\n",
        "\n",
        "display()"
      ],
      "metadata": {
        "colab": {
          "base_uri": "https://localhost:8080/",
          "height": 227
        },
        "id": "-i9tBsJlrlan",
        "outputId": "6bee0fb2-5e7f-47bc-deee-c80855c801ed"
      },
      "execution_count": 33,
      "outputs": [
        {
          "output_type": "display_data",
          "data": {
            "text/plain": [
              "<Figure size 1440x432 with 2 Axes>"
            ],
            "image/png": "[encoded data removed]"
          },
          "metadata": {
            "needs_background": "light"
          }
        }
      ]
    },
    {
      "cell_type": "code",
      "source": [
        "#creates a copy of train dataframe\n",
        "X_labeled = X.copy()\n",
        "\n",
        "#creates a column named label with all values = Train\n",
        "X_labeled['Label'] = 'Train'\n",
        "\n",
        "#set the entrances whose the idex are equal of x test index iqual Test\n",
        "X_labeled.loc[X_test.index, 'Label'] = 'Test'\n",
        "X_labeled"
      ],
      "metadata": {
        "id": "6xjLKo_XrorH"
      },
      "execution_count": null,
      "outputs": []
    },
    {
      "cell_type": "code",
      "source": [
        "sns.scatterplot(data=X_labeled, x='Experience', y=y, hue='Label', style='Label', s=100)\n",
        "sns.lineplot(x=regression_line_x, y=regression_line_y, color=\"red\")\n",
        "plt.title('Annual Salary vs Years of Experience (Training and Testing Set)')\n",
        "plt.xlabel('Experience (Years)')\n",
        "plt.ylabel('Salary ($)')"
      ],
      "metadata": {
        "colab": {
          "base_uri": "https://localhost:8080/",
          "height": 312
        },
        "id": "NcgVocV-sc5b",
        "outputId": "fac913f5-5da9-4816-f7c6-20abfaca1646"
      },
      "execution_count": 35,
      "outputs": [
        {
          "output_type": "execute_result",
          "data": {
            "text/plain": [
              "Text(0, 0.5, 'Salary ($)')"
            ]
          },
          "metadata": {},
          "execution_count": 35
        },
        {
          "output_type": "display_data",
          "data": {
            "text/plain": [
              "<Figure size 432x288 with 1 Axes>"
            ],
            "image/png": "[encoded data removed]"
          },
          "metadata": {
            "needs_background": "light"
          }
        }
      ]
    },
    {
      "cell_type": "markdown",
      "source": [
        "Final statistical scores and indicators\n",
        "\n",
        "Mean Absolute Error- MAE\n",
        "\n",
        "Mean Squared Error- MSE\n",
        "\n",
        "Root Mean Squared Error- RMSE\n",
        "\n",
        "R2"
      ],
      "metadata": {
        "id": "Fh8WiKlGsnuS"
      }
    },
    {
      "cell_type": "code",
      "source": [
        "#Mean Absolute Error- MAE\n",
        "from sklearn.metrics import mean_absolute_error\n",
        "# comparism between the generate curve and the experimental one\n",
        "MAE=  mean_absolute_error(y_test, y_pred)\n",
        "\n",
        "#Mean Squared Error- MSE\n",
        "from sklearn.metrics import mean_squared_error\n",
        "MSE= mean_squared_error(y_test, y_pred)\n",
        "\n",
        "#Root Mean Squared Error- RMSE\n",
        "RMSE_Manually= np.sqrt(MSE)\n",
        "RMSE= mean_squared_error(y_test, y_pred, squared=False)\n",
        "\n",
        "#R2\n",
        "r2_score_reg= reg.score(X_test, y_test)\n",
        "from sklearn.metrics import r2_score\n",
        "r2_score_sk= r2_score(y_test, y_pred)\n"
      ],
      "metadata": {
        "id": "oOfoOGHksgF_"
      },
      "execution_count": 39,
      "outputs": []
    },
    {
      "cell_type": "code",
      "source": [
        "print(f'The mean absolute error= {MAE}')\n",
        "print(f'The mean squared error= {MSE}')\n",
        "print(f'The Root Mean Squared Error Manually= {RMSE_Manually}')\n",
        "print(f'The Root Mean Squared Error from Sklearn tools= {RMSE}')\n",
        "print(f'The r2 scrore from reg function= {r2_score_reg}')\n",
        "print(f'The r2 scrore from Sklearn tools= {r2_score_sk}')"
      ],
      "metadata": {
        "colab": {
          "base_uri": "https://localhost:8080/"
        },
        "id": "QJcVPglItI6p",
        "outputId": "9752f174-69e6-4a86-8883-b2a20acc2139"
      },
      "execution_count": 40,
      "outputs": [
        {
          "output_type": "stream",
          "name": "stdout",
          "text": [
            "The mean absolute error= 6286.453830757749\n",
            "The mean squared error= 49830096.85590839\n",
            "The Root Mean Squared Error Manually= 7059.04362190151\n",
            "The Root Mean Squared Error from Sklearn tools= 7059.04362190151\n",
            "The r2 scrore from reg function= 0.9024461774180497\n",
            "The r2 scrore from Sklearn tools= 0.9024461774180497\n"
          ]
        }
      ]
    },
    {
      "cell_type": "code",
      "source": [
        ""
      ],
      "metadata": {
        "id": "kGeoinWTvoEh"
      },
      "execution_count": null,
      "outputs": []
    }
  ]
}