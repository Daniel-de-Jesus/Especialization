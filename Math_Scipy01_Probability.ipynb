{
  "nbformat": 4,
  "nbformat_minor": 0,
  "metadata": {
    "colab": {
      "name": "Math_Scipy01_Probability.ipynb",
      "provenance": [],
      "authorship_tag": "ABX9TyNYmGA1zYbX+U2IIJTXwfd9",
      "include_colab_link": true
    },
    "kernelspec": {
      "name": "python3",
      "display_name": "Python 3"
    },
    "language_info": {
      "name": "python"
    }
  },
  "cells": [
    {
      "cell_type": "markdown",
      "metadata": {
        "id": "view-in-github",
        "colab_type": "text"
      },
      "source": [
        "<a href=\"https://colab.research.google.com/github/Daniel-de-Jesus/Especialization/blob/main/Math_Scipy01_Probability.ipynb\" target=\"_parent\"><img src=\"https://colab.research.google.com/assets/colab-badge.svg\" alt=\"Open In Colab\"/></a>"
      ]
    },
    {
      "cell_type": "code",
      "execution_count": null,
      "metadata": {
        "id": "rhsn8qOLsiJA"
      },
      "outputs": [],
      "source": [
        "#importar a funcao do numpy para calcular o numero combinatorio\n",
        "from scipy.special import comb\n",
        "\n",
        "#Combinacao de n tomado k a k\n",
        "n=12\n",
        "for i in range(n):\n",
        "  print(comb(n,i))\n",
        "\n",
        "#que é o triangulo de pascal"
      ]
    },
    {
      "cell_type": "code",
      "source": [
        "#calculo das combinacoes para a distribuicao binomial\n",
        "from scipy.stats import binom\n",
        "\n",
        "n=10\n",
        "p=0.5\n",
        "for x in range(n):\n",
        "  print(binom.pmf(x,n,p))\n"
      ],
      "metadata": {
        "colab": {
          "base_uri": "https://localhost:8080/"
        },
        "id": "wTRuzM4us_TA",
        "outputId": "38f8bcc2-9d2f-44ee-9106-845a9b9a7044"
      },
      "execution_count": null,
      "outputs": [
        {
          "output_type": "stream",
          "name": "stdout",
          "text": [
            "0.0009765625\n",
            "0.00976562500000001\n",
            "0.04394531249999999\n",
            "0.11718750000000014\n",
            "0.20507812500000022\n",
            "0.24609375000000025\n",
            "0.20507812500000022\n",
            "0.11718750000000014\n",
            "0.04394531249999999\n",
            "0.00976562500000001\n"
          ]
        }
      ]
    },
    {
      "cell_type": "code",
      "source": [
        "prob=0.0\n",
        "for i in range(5, 11):\n",
        "  prob += binom.pmf(6,i,0.3333)\n",
        "print(prob)"
      ],
      "metadata": {
        "colab": {
          "base_uri": "https://localhost:8080/"
        },
        "id": "3c4nNEP6tocM",
        "outputId": "9a30f4e2-0f60-40f8-e017-eb2ac6deab38"
      },
      "execution_count": null,
      "outputs": [
        {
          "output_type": "stream",
          "name": "stdout",
          "text": [
            "0.1158358098870153\n"
          ]
        }
      ]
    },
    {
      "cell_type": "code",
      "source": [
        "n= 10\n",
        "p=0.3333333\n",
        "\n",
        "prob_scy= 1-binom.cdf(4, n, p)\n",
        "prob_scy"
      ],
      "metadata": {
        "colab": {
          "base_uri": "https://localhost:8080/"
        },
        "id": "OWD780ILv-Ye",
        "outputId": "c31aee39-3459-410c-d1d0-ea099241b21d"
      },
      "execution_count": null,
      "outputs": [
        {
          "output_type": "execute_result",
          "data": {
            "text/plain": [
              "0.2131280117868265"
            ]
          },
          "metadata": {},
          "execution_count": 29
        }
      ]
    },
    {
      "cell_type": "code",
      "source": [
        ""
      ],
      "metadata": {
        "id": "8mygova4w12U"
      },
      "execution_count": null,
      "outputs": []
    }
  ]
}